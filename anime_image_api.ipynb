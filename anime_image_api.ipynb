{
 "cells": [
  {
   "cell_type": "code",
   "metadata": {},
   "source": [
    "# Install dependencies\n",
    "!pip install diffusers transformers accelerate safetensors flask flask-cors flask-ngrok"
   ],
   "execution_count": null,
   "outputs": []
  },
  {
   "cell_type": "code",
   "metadata": {},
   "source": [
    "# Imports\n",
    "from flask import Flask, request, send_file\n",
    "from flask_cors import CORS\n",
    "from flask_ngrok import run_with_ngrok\n",
    "from diffusers import StableDiffusionPipeline\n",
    "import torch\n",
    "import uuid\n",
    "import os"
   ],
   "execution_count": null,
   "outputs": []
  },
  {
   "cell_type": "code",
   "metadata": {},
   "source": [
    "# Create Flask app\n",
    "app = Flask(__name__)\n",
    "CORS(app)\n",
    "run_with_ngrok(app)  # Must be after app definition"
   ],
   "execution_count": null,
   "outputs": []
  },
  {
   "cell_type": "code",
   "metadata": {},
   "source": [
    "# Load Waifu Diffusion model\n",
    "device = 'cuda' if torch.cuda.is_available() else 'cpu'\n",
    "pipe = StableDiffusionPipeline.from_pretrained(\n",
    "    'hakurei/waifu-diffusion',\n",
    "    torch_dtype=torch.float16\n",
    ")\n",
    "pipe = pipe.to(device)\n",
    "\n",
    "# Output folder\n",
    "output_dir = 'outputs'\n",
    "os.makedirs(output_dir, exist_ok=True)"
   ],
   "execution_count": null,
   "outputs": []
  },
  {
   "cell_type": "code",
   "metadata": {},
   "source": [
    "# Define API endpoint\n",
    "@app.route('/generate', methods=['GET'])\n",
    "def generate():\n",
    "    prompt = request.args.get('prompt')\n",
    "    if not prompt:\n",
    "        return '❌ Error: prompt query required', 400\n",
    "\n",
    "    output_path = os.path.join(output_dir, f'{uuid.uuid4()}.png')\n",
    "    image = pipe(prompt, guidance_scale=7.5).images[0]\n",
    "    image.save(output_path)\n",
    "\n",
    "    return send_file(output_path, mimetype='image/png')"
   ],
   "execution_count": null,
   "outputs": []
  },
  {
   "cell_type": "code",
   "metadata": {},
   "source": [
    "# Run Flask app with ngrok\n",
    "app.run()"
   ],
   "execution_count": null,
   "outputs": []
  }
 ],
 "metadata": {
  "kernelspec": {
   "display_name": "Python 3",
   "language": "python",
   "name": "python3"
  },
  "language_info": {
   "name": "python",
   "version": "3.10"
  }
 },
 "nbformat": 4,
 "nbformat_minor": 5
}
