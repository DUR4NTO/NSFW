{
 "cells": [
  {
   "cell_type": "code",
   "metadata": {},
   "source": [
    "# Install dependencies\n",
    "!pip install diffusers transformers accelerate safetensors flask flask-cors"
   ],
   "execution_count": null,
   "outputs": []
  },
  {
   "cell_type": "code",
   "metadata": {},
   "source": [
    "# Anime Image API\n",
    "from flask import Flask, request, send_file\n",
    "from flask_cors import CORS\n",
    "from diffusers import StableDiffusionPipeline\n",
    "import torch\n",
    "import uuid\n",
    "import os\n",
    "\n",
    "# Flask app\n",
    "app = Flask(__name__)\n",
    "CORS(app)\n",
    "\n",
    "# Load anime model (Waifu Diffusion)\n",
    "device = 'cuda' if torch.cuda.is_available() else 'cpu'\n",
    "pipe = StableDiffusionPipeline.from_pretrained(\n",
    "    'hakurei/waifu-diffusion',\n",
    "    torch_dtype=torch.float16\n",
    ")\n",
    "pipe = pipe.to(device)\n",
    "\n",
    "# Output folder\n",
    "output_dir = 'outputs'\n",
    "os.makedirs(output_dir, exist_ok=True)\n",
    "\n",
    "@app.route('/generate', methods=['GET'])\n",
    "def generate():\n",
    "    prompt = request.args.get('prompt')\n",
    "    if not prompt:\n",
    "        return '❌ Error: prompt query required', 400\n",
    "\n",
    "    output_path = os.path.join(output_dir, f'{uuid.uuid4()}.png')\n",
    "\n",
    "    # Generate anime image\n",
    "    image = pipe(prompt, guidance_scale=7.5).images[0]\n",
    "    image.save(output_path)\n",
    "\n",
    "    return send_file(output_path, mimetype='image/png')\n",
    "\n",
    "# Run Flask app\n",
    "app.run(host='0.0.0.0', port=7860)"
   ],
   "execution_count": null,
   "outputs": []
  }
 ],
 "metadata": {
  "kernelspec": {
   "display_name": "Python 3",
   "language": "python",
   "name": "python3"
  },
  "language_info": {
   "name": "python",
   "version": "3.10"
  }
 },
 "nbformat": 4,
 "nbformat_minor": 5
}
